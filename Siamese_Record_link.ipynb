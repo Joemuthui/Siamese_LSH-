{
 "cells": [
  {
   "cell_type": "markdown",
   "id": "861c0b8d",
   "metadata": {},
   "source": [
    "### This notebook uses the idea of Siamese NN. The Siames network was built to check if two images are similar. We hope to use the same idea to check if two records are similar."
   ]
  },
  {
   "cell_type": "code",
   "execution_count": null,
   "id": "2eee7a0e",
   "metadata": {},
   "outputs": [],
   "source": []
  },
  {
   "cell_type": "markdown",
   "id": "4533cebc",
   "metadata": {},
   "source": [
    "The Notebook is arranged as follows:\n",
    "- **Importing packages**: This step involves importing the necessary packages into this python environment.\n",
    "- **Preprrocessing steps**: Load the two dataframes, convert the dates to day, month and year, and finally replace the missing values in names with an empty string. The names are converted to vectors using the position they hold in the alphabet. For example 'Jane'--> (10,1,14,5). \n",
    " - The vector size 15(Possible the longest name in the dataset, the characters after the maximum length is reached should discarded) is initially initialized to zeros. \n",
    " - The initialized values are populated as in the example of Jane. The vectors are scaled by dividing by 26 (value for z). We admit that the encoding of names this way is not the best but a good start towards a robust way.  Once the encoding happens, we update the values in the dataframe. \n",
    " - Dropping the unnecessary columns such as record number, ID and names.\n",
    "- **Upload the labels**: This are the labels that were generated using the first method (As mentioned, they were to be used).\n",
    "- **Filter the data**: Filter the dataframes using the indices in the label datase for proper label matching. After this happens we split the data into training (70%) and testing(30%).\n",
    "- **Label Encoding**: The model will output three labels hence we need to label encode our target. For this we set match values to (1,0,0), partial match to (0,1,0) and unmatch to (0,0,1).\n",
    "- **Initilize the feedforward network**: For this task we replace the CNN model with a feed forward neurl network with two layers. The number of neurons in each layer is choosen so that the model does not overfit on our small dataset.\n",
    "- **Set up the siamese network**: Build the siamese model with two networks one for hdss data and the other for the facility data. The outputs of the two networks is through an L1 norm to compute the difference. The L1norm is finally taken through a fully connected layer of 3 neurons corresponding to the number of classes.\n",
    " - **Compile and Fit the model**: The model is compiled with adam optimizer and categorical_crossentropy as the loss. After compiling fit the model on the training data (for epochs you choose ). Recall that the input features is a list of two arrays (one for the hdss data and the other facility data) and encoded labels.\n",
    " - **Model evaluation**: The model was evaluated using the test set had an accuracy of **93.05** and an accuracy of **92.76%**\n",
    " \n",
    " - **Retrospect**: This step involves going through some prediction to see why error were made during predictions.\n",
    " \n",
    " ## Final Thought.\n",
    " This method has a great potential to perform record linkage. More labeled data is needed to train a robust model. "
   ]
  },
  {
   "cell_type": "markdown",
   "id": "595becb6",
   "metadata": {},
   "source": [
    "## Import the necessary packages"
   ]
  },
  {
   "cell_type": "code",
   "execution_count": 4,
   "id": "db22a791",
   "metadata": {},
   "outputs": [],
   "source": [
    "import pandas as pd\n",
    "import numpy as np\n",
    "import seaborn as sns\n",
    "import matplotlib.pyplot as plt\n",
    "import recordlinkage\n",
    "import datetime as dt\n",
    "from sklearn.metrics import confusion_matrix,f1_score\n",
    "import random\n",
    "\n",
    "import warnings\n",
    "warnings.filterwarnings('ignore')\n",
    "##\n",
    "import keras as k\n",
    "from keras.layers import *\n",
    "from keras.models import Sequential, Model\n",
    "from keras.regularizers import l2\n",
    "from keras.optimizers import Adam\n",
    "import tensorflow as tf"
   ]
  },
  {
   "cell_type": "markdown",
   "id": "a329643b",
   "metadata": {},
   "source": [
    "## Preprocessing step"
   ]
  },
  {
   "cell_type": "code",
   "execution_count": 123,
   "id": "12c300a5",
   "metadata": {},
   "outputs": [],
   "source": [
    "#year, month, and day column\n",
    "def connvert_date(hdss):\n",
    "    hdss['dob']=pd.to_datetime(hdss['dob'],dayfirst=True)\n",
    "    hdss['year']=hdss['dob'].dt.year\n",
    "    hdss['month']=hdss['dob'].dt.month\n",
    "    hdss['day']=hdss['dob'].dt.day\n",
    "    return hdss.drop('dob',axis=1)"
   ]
  },
  {
   "cell_type": "code",
   "execution_count": 234,
   "id": "ad93db7b",
   "metadata": {},
   "outputs": [],
   "source": [
    "hd_master=pd.read_csv('data/synthetic_hdss_v3.csv')\n",
    "\n",
    "fac_master=pd.read_csv('data/synthetic_facility_v3.csv')\n"
   ]
  },
  {
   "cell_type": "code",
   "execution_count": 124,
   "id": "a85be153",
   "metadata": {},
   "outputs": [],
   "source": [
    "#import the dataset, replace Nan with an empty string\n",
    "#and convert the dates\n",
    "or_hdss=pd.read_csv('data/synthetic_hdss_v3.csv')\n",
    "or_hdss.replace(np.NaN,'',inplace=True)\n",
    "or_hdss=connvert_date(or_hdss)\n",
    "or_facility=pd.read_csv('data/synthetic_facility_v3.csv')\n",
    "or_facility.replace(np.NaN,'',inplace=True)\n",
    "or_facility=connvert_date(or_facility)"
   ]
  },
  {
   "cell_type": "code",
   "execution_count": 125,
   "id": "529a7078",
   "metadata": {},
   "outputs": [],
   "source": [
    "#list of alphbets\n",
    "code=list('abcdefghijklmnopqrstuvwxyz')"
   ]
  },
  {
   "cell_type": "code",
   "execution_count": 126,
   "id": "ac30e55d",
   "metadata": {},
   "outputs": [],
   "source": [
    "#create a function that can be used to convert names to vectors\n",
    "size=15\n",
    "def convert_name_to_vector(name):\n",
    "    name=name.lower()\n",
    "    initials=np.zeros(size)\n",
    "    i=0\n",
    "    for a in name:\n",
    "        if a in code:\n",
    "            value=code.index(a)+1\n",
    "            initials[i]=value\n",
    "            i+=1\n",
    "    return (initials/26).flatten()"
   ]
  },
  {
   "cell_type": "code",
   "execution_count": 127,
   "id": "492cf232",
   "metadata": {},
   "outputs": [],
   "source": [
    "#generate the column names for the vectors\n",
    "first=[]\n",
    "last=[]\n",
    "pet=[]\n",
    "for i in range(size):\n",
    "    first.append(f'f_{i}')\n",
    "    last.append(f'l_{i}')\n",
    "    pet.append(f'p_{i}')"
   ]
  },
  {
   "cell_type": "code",
   "execution_count": 128,
   "id": "a72d542a",
   "metadata": {},
   "outputs": [],
   "source": [
    "#copy the dataframe, for future use\n",
    "master_hdss=or_hdss.copy()\n",
    "master_facility=or_facility.copy()"
   ]
  },
  {
   "cell_type": "code",
   "execution_count": 129,
   "id": "decb6f92",
   "metadata": {},
   "outputs": [],
   "source": [
    "#convert the names to vectors. Initiliazed vector of size 15\n",
    "or_hdss[first]=pd.DataFrame(or_hdss['firstname'].apply(convert_name_to_vector).tolist())\n",
    "or_hdss[last]=pd.DataFrame(or_hdss['lastname'].apply(convert_name_to_vector).tolist())\n",
    "or_hdss[pet]=pd.DataFrame(or_hdss['petname'].apply(convert_name_to_vector).tolist())\n",
    "\n",
    "or_facility[first]=pd.DataFrame(or_facility['firstname'].apply(convert_name_to_vector).tolist())\n",
    "or_facility[last]=pd.DataFrame(or_facility['lastname'].apply(convert_name_to_vector).tolist())\n",
    "or_facility[pet]=pd.DataFrame(or_facility['petname'].apply(convert_name_to_vector).tolist())"
   ]
  },
  {
   "cell_type": "code",
   "execution_count": 130,
   "id": "be5c6c21",
   "metadata": {},
   "outputs": [],
   "source": [
    "#drop the unnecessary columns\n",
    "hdss=or_hdss.drop(['recnr','firstname', 'lastname', 'petname', 'hdssid','hdsshhid','nationalid'],axis=1)\n",
    "facility=or_facility.drop(['recnr', 'firstname', 'lastname', 'petname','nationalid','patientid', 'visitdate',],axis=1)"
   ]
  },
  {
   "cell_type": "markdown",
   "id": "d27b58af",
   "metadata": {},
   "source": [
    "### Label Upload and training  set generation"
   ]
  },
  {
   "cell_type": "code",
   "execution_count": 131,
   "id": "e968b0ac",
   "metadata": {},
   "outputs": [],
   "source": [
    "#load the labels. This labels we generated using the record linkage library method method\n",
    "#read the labeled_file\n",
    "labeled=pd.read_csv('index_labels.csv')"
   ]
  },
  {
   "cell_type": "code",
   "execution_count": 132,
   "id": "b59bbb74",
   "metadata": {},
   "outputs": [],
   "source": [
    "#fecth the indices and the corresponding labels\n",
    "hd_index=np.array(labeled['0'])\n",
    "fc_index=np.array(labeled['1'])\n",
    "label=np.array(labeled['labels'])"
   ]
  },
  {
   "cell_type": "code",
   "execution_count": null,
   "id": "cf7b9980",
   "metadata": {},
   "outputs": [],
   "source": []
  },
  {
   "cell_type": "code",
   "execution_count": 133,
   "id": "b7a6b1db",
   "metadata": {},
   "outputs": [],
   "source": [
    "#filter the pairs and label them as match, partial or different(unmatch)\n",
    "pairs=np.array(list(zip(hd_index,fc_index)))\n",
    "match=pairs[label==1]\n",
    "partial=pairs[label==0]\n",
    "different=pairs[label==-1]"
   ]
  },
  {
   "cell_type": "code",
   "execution_count": 134,
   "id": "31049d10",
   "metadata": {},
   "outputs": [
    {
     "data": {
      "text/plain": [
       "array([[   0, 2501],\n",
       "       [   3, 1079],\n",
       "       [   4, 1012],\n",
       "       ...,\n",
       "       [4114,  591],\n",
       "       [4114, 1537],\n",
       "       [4114, 1801]])"
      ]
     },
     "execution_count": 134,
     "metadata": {},
     "output_type": "execute_result"
    }
   ],
   "source": [
    "pairs"
   ]
  },
  {
   "cell_type": "markdown",
   "id": "f4dff4be",
   "metadata": {},
   "source": [
    "### Creat the training and testing set"
   ]
  },
  {
   "cell_type": "code",
   "execution_count": 135,
   "id": "071d1ad9",
   "metadata": {},
   "outputs": [],
   "source": [
    "#function to filter the data from the large dataframe\n",
    "def generate_data(match,label):\n",
    "    hds=hdss.loc[match[:,0]]\n",
    "    fac=facility.loc[match[:,1]]\n",
    "    labels=[label]*fac.shape[0]\n",
    "    return hds,fac,labels"
   ]
  },
  {
   "cell_type": "code",
   "execution_count": 136,
   "id": "3e09de60",
   "metadata": {},
   "outputs": [],
   "source": [
    "#filter the data and for all labels\n",
    "hds_match,fac_match,lab_match=generate_data(match,1)\n",
    "hds_part,fac_part,lab_part=generate_data(partial,0)\n",
    "hds_diff,fac_diff,lab_diff=generate_data(different,-1)"
   ]
  },
  {
   "cell_type": "code",
   "execution_count": 137,
   "id": "4122a239",
   "metadata": {},
   "outputs": [],
   "source": [
    "#concat the files to have one for each i.e. hdss and facility.\n",
    "#remember the this is the data where label is available\n",
    "hdss_combo=pd.concat([hds_match,hds_part,hds_diff])\n",
    "facility_combo=pd.concat([fac_match,fac_part,fac_diff])\n",
    "label_combo=np.array(lab_match+lab_part+lab_diff)"
   ]
  },
  {
   "cell_type": "code",
   "execution_count": 138,
   "id": "07f9ef04",
   "metadata": {},
   "outputs": [],
   "source": [
    "#sample the training set which is 70% of the entire data set\n",
    "#generate the indices which will be used for training and testing\n",
    "random.seed(0)\n",
    "train=random.sample(set(np.arange(hdss_combo.shape[0])),int(hdss_combo.shape[0]*0.7))\n",
    "test=list(set(np.arange(hdss_combo.shape[0]))-set(train))"
   ]
  },
  {
   "cell_type": "markdown",
   "id": "f8e6ebd4",
   "metadata": {},
   "source": [
    "### Encode the labels"
   ]
  },
  {
   "cell_type": "code",
   "execution_count": 139,
   "id": "a881cda0",
   "metadata": {},
   "outputs": [],
   "source": [
    "#encoding\n",
    "one=[1,0,0]\n",
    "zero=[0,1,0]\n",
    "negative=[0,0,1]\n",
    "label_combo_encoded=[]\n",
    "for a in label_combo:\n",
    "    if a==1:\n",
    "        label_combo_encoded.append(one)\n",
    "    elif a==0:\n",
    "        label_combo_encoded.append(zero)\n",
    "    else:\n",
    "        label_combo_encoded.append(negative)"
   ]
  },
  {
   "cell_type": "code",
   "execution_count": 140,
   "id": "307e4587",
   "metadata": {},
   "outputs": [],
   "source": [
    "#split the test and trainin based on the indices produced earlier\n",
    "hdss_combo_train=hdss_combo.iloc[train]\n",
    "hdss_combo_test=hdss_combo.iloc[test]\n",
    "facility_combo_train=facility_combo.iloc[train]\n",
    "facility_combo_test=facility_combo.iloc[test]\n",
    "label_combo_train=np.array(label_combo_encoded)[train]\n",
    "label_combo_test=np.array(label_combo_encoded)[test]\n"
   ]
  },
  {
   "cell_type": "code",
   "execution_count": 141,
   "id": "2b3a5732",
   "metadata": {},
   "outputs": [],
   "source": [
    "#create the a list of pairs. For the siamese network.\n",
    "#remember one side is hdss and the other is facility data\n",
    "paired_train=[np.array(hdss_combo_train),np.array(facility_combo_train)]\n",
    "paired_test=[np.array(hdss_combo_test),np.array(facility_combo_test)]"
   ]
  },
  {
   "cell_type": "markdown",
   "id": "139d6cd6",
   "metadata": {},
   "source": [
    "## Creat the Siamese feedforward network with two layers"
   ]
  },
  {
   "cell_type": "code",
   "execution_count": 142,
   "id": "839f5558",
   "metadata": {},
   "outputs": [],
   "source": [
    "def get_siamese_ffn_unit(input_shape):\n",
    "    # Define the neural network architecture\n",
    "    model = tf.keras.Sequential([\n",
    "        tf.keras.layers.Dense(32, activation='relu', input_shape=(input_shape,)),\n",
    "        tf.keras.layers.Dense(16, activation='relu'),\n",
    "    ])\n",
    "    return model\n"
   ]
  },
  {
   "cell_type": "code",
   "execution_count": 143,
   "id": "b209c9c4",
   "metadata": {},
   "outputs": [],
   "source": [
    "#create a function that is able to separate the network into two,\n",
    "# feed the list of inputs to the modela and softmax the output\n",
    "def get_classifier_model(input_shape):\n",
    "    \"\"\"\n",
    "        Model architecture\n",
    "    \"\"\"\n",
    "    \n",
    "    # Define the tensors for the two input vectors\n",
    "    left_input = Input(input_shape)\n",
    "    right_input = Input(input_shape)\n",
    "    \n",
    "    # Convolutional Neural Network\n",
    "    model = get_siamese_ffn_unit(input_shape)\n",
    "    \n",
    "    # Generate the encodings (feature vectors) for the two images\n",
    "    encoded_l = model(left_input)\n",
    "    encoded_r = model(right_input)\n",
    "    \n",
    "    # Add a customized layer to compute the absolute difference between the encodings\n",
    "    L1_layer = Lambda(lambda tensors:k.backend.abs(tensors[0] - tensors[1]))\n",
    "    L1_distance = L1_layer([encoded_l, encoded_r])\n",
    "    \n",
    "    # Add a dense layer with a sigmoid unit to generate the similarity score\n",
    "    prediction = tf.keras.layers.Dense(3, activation='softmax')(L1_distance)\n",
    "    \n",
    "    # Connect the inputs with the outputs\n",
    "    siamese_net = Model(inputs=[left_input,right_input],outputs=prediction)\n",
    "    \n",
    "    # return the model\n",
    "    return siamese_net"
   ]
  },
  {
   "cell_type": "markdown",
   "id": "273ceb84",
   "metadata": {},
   "source": [
    "### Compile and fit the model"
   ]
  },
  {
   "cell_type": "code",
   "execution_count": 146,
   "id": "595a0b26",
   "metadata": {},
   "outputs": [
    {
     "name": "stdout",
     "output_type": "stream",
     "text": [
      "Epoch 1/100\n",
      "54/54 [==============================] - 1s 12ms/step - loss: 0.9170 - accuracy: 0.7388 - val_loss: 0.8629 - val_accuracy: 0.8279\n",
      "Epoch 2/100\n",
      "54/54 [==============================] - 0s 3ms/step - loss: 0.8481 - accuracy: 0.8173 - val_loss: 0.8471 - val_accuracy: 0.8233\n",
      "Epoch 3/100\n",
      "54/54 [==============================] - 0s 5ms/step - loss: 0.8304 - accuracy: 0.8168 - val_loss: 0.8262 - val_accuracy: 0.8256\n",
      "Epoch 4/100\n",
      "54/54 [==============================] - 0s 5ms/step - loss: 0.8093 - accuracy: 0.8179 - val_loss: 0.8057 - val_accuracy: 0.8256\n",
      "Epoch 5/100\n",
      "54/54 [==============================] - 0s 2ms/step - loss: 0.7870 - accuracy: 0.8168 - val_loss: 0.7818 - val_accuracy: 0.8279\n",
      "Epoch 6/100\n",
      "54/54 [==============================] - 0s 2ms/step - loss: 0.7666 - accuracy: 0.8168 - val_loss: 0.7588 - val_accuracy: 0.8302\n",
      "Epoch 7/100\n",
      "54/54 [==============================] - 0s 1ms/step - loss: 0.7432 - accuracy: 0.8173 - val_loss: 0.7326 - val_accuracy: 0.8302\n",
      "Epoch 8/100\n",
      "54/54 [==============================] - 0s 2ms/step - loss: 0.7196 - accuracy: 0.8173 - val_loss: 0.7102 - val_accuracy: 0.8302\n",
      "Epoch 9/100\n",
      "54/54 [==============================] - 0s 5ms/step - loss: 0.6935 - accuracy: 0.8185 - val_loss: 0.6760 - val_accuracy: 0.8302\n",
      "Epoch 10/100\n",
      "54/54 [==============================] - 0s 2ms/step - loss: 0.6586 - accuracy: 0.8191 - val_loss: 0.6437 - val_accuracy: 0.8279\n",
      "Epoch 11/100\n",
      "54/54 [==============================] - 0s 4ms/step - loss: 0.6230 - accuracy: 0.8191 - val_loss: 0.6085 - val_accuracy: 0.8256\n",
      "Epoch 12/100\n",
      "54/54 [==============================] - 0s 3ms/step - loss: 0.5823 - accuracy: 0.8237 - val_loss: 0.5707 - val_accuracy: 0.8419\n",
      "Epoch 13/100\n",
      "54/54 [==============================] - 0s 2ms/step - loss: 0.5438 - accuracy: 0.8400 - val_loss: 0.5398 - val_accuracy: 0.8395\n",
      "Epoch 14/100\n",
      "54/54 [==============================] - 0s 1ms/step - loss: 0.5086 - accuracy: 0.8389 - val_loss: 0.5091 - val_accuracy: 0.8419\n",
      "Epoch 15/100\n",
      "54/54 [==============================] - 0s 1ms/step - loss: 0.4776 - accuracy: 0.8592 - val_loss: 0.4814 - val_accuracy: 0.8814\n",
      "Epoch 16/100\n",
      "54/54 [==============================] - 0s 2ms/step - loss: 0.4495 - accuracy: 0.8866 - val_loss: 0.4596 - val_accuracy: 0.8791\n",
      "Epoch 17/100\n",
      "54/54 [==============================] - 0s 1ms/step - loss: 0.4242 - accuracy: 0.8901 - val_loss: 0.4380 - val_accuracy: 0.8930\n",
      "Epoch 18/100\n",
      "54/54 [==============================] - 0s 2ms/step - loss: 0.4028 - accuracy: 0.8935 - val_loss: 0.4185 - val_accuracy: 0.8884\n",
      "Epoch 19/100\n",
      "54/54 [==============================] - 0s 1ms/step - loss: 0.3848 - accuracy: 0.8999 - val_loss: 0.4048 - val_accuracy: 0.8907\n",
      "Epoch 20/100\n",
      "54/54 [==============================] - 0s 1ms/step - loss: 0.3728 - accuracy: 0.9011 - val_loss: 0.3946 - val_accuracy: 0.9302\n",
      "Epoch 21/100\n",
      "54/54 [==============================] - 0s 2ms/step - loss: 0.3540 - accuracy: 0.9139 - val_loss: 0.3781 - val_accuracy: 0.9349\n",
      "Epoch 22/100\n",
      "54/54 [==============================] - 0s 2ms/step - loss: 0.3366 - accuracy: 0.9087 - val_loss: 0.3672 - val_accuracy: 0.9349\n",
      "Epoch 23/100\n",
      "54/54 [==============================] - 0s 2ms/step - loss: 0.3234 - accuracy: 0.9331 - val_loss: 0.3569 - val_accuracy: 0.9395\n",
      "Epoch 24/100\n",
      "54/54 [==============================] - 0s 2ms/step - loss: 0.3127 - accuracy: 0.9442 - val_loss: 0.3462 - val_accuracy: 0.9395\n",
      "Epoch 25/100\n",
      "54/54 [==============================] - 0s 1ms/step - loss: 0.3016 - accuracy: 0.9395 - val_loss: 0.3396 - val_accuracy: 0.9326\n",
      "Epoch 26/100\n",
      "54/54 [==============================] - 0s 2ms/step - loss: 0.2924 - accuracy: 0.9447 - val_loss: 0.3290 - val_accuracy: 0.9372\n",
      "Epoch 27/100\n",
      "54/54 [==============================] - 0s 2ms/step - loss: 0.2822 - accuracy: 0.9465 - val_loss: 0.3263 - val_accuracy: 0.9326\n",
      "Epoch 28/100\n",
      "54/54 [==============================] - 0s 1ms/step - loss: 0.2759 - accuracy: 0.9430 - val_loss: 0.3153 - val_accuracy: 0.9302\n",
      "Epoch 29/100\n",
      "54/54 [==============================] - 0s 2ms/step - loss: 0.2672 - accuracy: 0.9465 - val_loss: 0.3084 - val_accuracy: 0.9326\n",
      "Epoch 30/100\n",
      "54/54 [==============================] - 0s 1ms/step - loss: 0.2615 - accuracy: 0.9471 - val_loss: 0.3030 - val_accuracy: 0.9326\n",
      "Epoch 31/100\n",
      "54/54 [==============================] - 0s 1ms/step - loss: 0.2540 - accuracy: 0.9465 - val_loss: 0.2983 - val_accuracy: 0.9326\n",
      "Epoch 32/100\n",
      "54/54 [==============================] - 0s 1ms/step - loss: 0.2486 - accuracy: 0.9476 - val_loss: 0.2989 - val_accuracy: 0.9302\n",
      "Epoch 33/100\n",
      "54/54 [==============================] - 0s 1ms/step - loss: 0.2467 - accuracy: 0.9465 - val_loss: 0.2922 - val_accuracy: 0.9302\n",
      "Epoch 34/100\n",
      "54/54 [==============================] - 0s 1ms/step - loss: 0.2404 - accuracy: 0.9476 - val_loss: 0.2984 - val_accuracy: 0.9209\n",
      "Epoch 35/100\n",
      "54/54 [==============================] - 0s 1ms/step - loss: 0.2382 - accuracy: 0.9465 - val_loss: 0.2975 - val_accuracy: 0.9233\n",
      "Epoch 36/100\n",
      "54/54 [==============================] - 0s 1ms/step - loss: 0.2314 - accuracy: 0.9459 - val_loss: 0.2815 - val_accuracy: 0.9326\n",
      "Epoch 37/100\n",
      "54/54 [==============================] - 0s 1ms/step - loss: 0.2267 - accuracy: 0.9459 - val_loss: 0.2735 - val_accuracy: 0.9372\n",
      "Epoch 38/100\n",
      "54/54 [==============================] - 0s 1ms/step - loss: 0.2241 - accuracy: 0.9471 - val_loss: 0.2712 - val_accuracy: 0.9349\n",
      "Epoch 39/100\n",
      "54/54 [==============================] - 0s 1ms/step - loss: 0.2200 - accuracy: 0.9482 - val_loss: 0.2688 - val_accuracy: 0.9302\n",
      "Epoch 40/100\n",
      "54/54 [==============================] - 0s 2ms/step - loss: 0.2158 - accuracy: 0.9488 - val_loss: 0.2642 - val_accuracy: 0.9395\n",
      "Epoch 41/100\n",
      "54/54 [==============================] - 0s 1ms/step - loss: 0.2145 - accuracy: 0.9488 - val_loss: 0.2671 - val_accuracy: 0.9349\n",
      "Epoch 42/100\n",
      "54/54 [==============================] - 0s 2ms/step - loss: 0.2094 - accuracy: 0.9476 - val_loss: 0.2567 - val_accuracy: 0.9419\n",
      "Epoch 43/100\n",
      "54/54 [==============================] - 0s 2ms/step - loss: 0.2083 - accuracy: 0.9471 - val_loss: 0.2562 - val_accuracy: 0.9372\n",
      "Epoch 44/100\n",
      "54/54 [==============================] - 0s 2ms/step - loss: 0.2035 - accuracy: 0.9488 - val_loss: 0.2521 - val_accuracy: 0.9419\n",
      "Epoch 45/100\n",
      "54/54 [==============================] - 0s 1ms/step - loss: 0.2003 - accuracy: 0.9482 - val_loss: 0.2485 - val_accuracy: 0.9419\n",
      "Epoch 46/100\n",
      "54/54 [==============================] - 0s 1ms/step - loss: 0.1981 - accuracy: 0.9506 - val_loss: 0.2496 - val_accuracy: 0.9419\n",
      "Epoch 47/100\n",
      "54/54 [==============================] - 0s 1ms/step - loss: 0.1957 - accuracy: 0.9506 - val_loss: 0.2483 - val_accuracy: 0.9395\n",
      "Epoch 48/100\n",
      "54/54 [==============================] - 0s 2ms/step - loss: 0.1943 - accuracy: 0.9494 - val_loss: 0.2502 - val_accuracy: 0.9349\n",
      "Epoch 49/100\n",
      "54/54 [==============================] - 0s 2ms/step - loss: 0.1906 - accuracy: 0.9494 - val_loss: 0.2400 - val_accuracy: 0.9465\n",
      "Epoch 50/100\n",
      "54/54 [==============================] - 0s 2ms/step - loss: 0.1888 - accuracy: 0.9494 - val_loss: 0.2408 - val_accuracy: 0.9419\n",
      "Epoch 51/100\n",
      "54/54 [==============================] - 0s 1ms/step - loss: 0.1864 - accuracy: 0.9500 - val_loss: 0.2342 - val_accuracy: 0.9465\n",
      "Epoch 52/100\n",
      "54/54 [==============================] - 0s 1ms/step - loss: 0.1817 - accuracy: 0.9523 - val_loss: 0.2313 - val_accuracy: 0.9465\n",
      "Epoch 53/100\n",
      "54/54 [==============================] - 0s 2ms/step - loss: 0.1801 - accuracy: 0.9535 - val_loss: 0.2303 - val_accuracy: 0.9442\n",
      "Epoch 54/100\n",
      "54/54 [==============================] - 0s 2ms/step - loss: 0.1778 - accuracy: 0.9535 - val_loss: 0.2307 - val_accuracy: 0.9512\n",
      "Epoch 55/100\n",
      "54/54 [==============================] - 0s 1ms/step - loss: 0.1762 - accuracy: 0.9517 - val_loss: 0.2273 - val_accuracy: 0.9512\n",
      "Epoch 56/100\n",
      "54/54 [==============================] - 0s 1ms/step - loss: 0.1733 - accuracy: 0.9552 - val_loss: 0.2318 - val_accuracy: 0.9465\n",
      "Epoch 57/100\n",
      "54/54 [==============================] - 0s 1ms/step - loss: 0.1714 - accuracy: 0.9546 - val_loss: 0.2213 - val_accuracy: 0.9535\n",
      "Epoch 58/100\n",
      "54/54 [==============================] - 0s 1ms/step - loss: 0.1698 - accuracy: 0.9535 - val_loss: 0.2248 - val_accuracy: 0.9442\n"
     ]
    },
    {
     "name": "stdout",
     "output_type": "stream",
     "text": [
      "Epoch 59/100\n",
      "54/54 [==============================] - 0s 1ms/step - loss: 0.1696 - accuracy: 0.9535 - val_loss: 0.2223 - val_accuracy: 0.9488\n",
      "Epoch 60/100\n",
      "54/54 [==============================] - 0s 2ms/step - loss: 0.1669 - accuracy: 0.9564 - val_loss: 0.2286 - val_accuracy: 0.9465\n",
      "Epoch 61/100\n",
      "54/54 [==============================] - 0s 1ms/step - loss: 0.1654 - accuracy: 0.9558 - val_loss: 0.2173 - val_accuracy: 0.9512\n",
      "Epoch 62/100\n",
      "54/54 [==============================] - 0s 1ms/step - loss: 0.1633 - accuracy: 0.9581 - val_loss: 0.2182 - val_accuracy: 0.9442\n",
      "Epoch 63/100\n",
      "54/54 [==============================] - 0s 1ms/step - loss: 0.1627 - accuracy: 0.9564 - val_loss: 0.2172 - val_accuracy: 0.9488\n",
      "Epoch 64/100\n",
      "54/54 [==============================] - 0s 1ms/step - loss: 0.1604 - accuracy: 0.9581 - val_loss: 0.2157 - val_accuracy: 0.9465\n",
      "Epoch 65/100\n",
      "54/54 [==============================] - 0s 1ms/step - loss: 0.1600 - accuracy: 0.9570 - val_loss: 0.2175 - val_accuracy: 0.9465\n",
      "Epoch 66/100\n",
      "54/54 [==============================] - 0s 1ms/step - loss: 0.1591 - accuracy: 0.9593 - val_loss: 0.2217 - val_accuracy: 0.9419\n",
      "Epoch 67/100\n",
      "54/54 [==============================] - 0s 2ms/step - loss: 0.1587 - accuracy: 0.9564 - val_loss: 0.2154 - val_accuracy: 0.9488\n",
      "Epoch 68/100\n",
      "54/54 [==============================] - 0s 2ms/step - loss: 0.1563 - accuracy: 0.9604 - val_loss: 0.2196 - val_accuracy: 0.9442\n",
      "Epoch 69/100\n",
      "54/54 [==============================] - 0s 1ms/step - loss: 0.1568 - accuracy: 0.9575 - val_loss: 0.2187 - val_accuracy: 0.9419\n",
      "Epoch 70/100\n",
      "54/54 [==============================] - 0s 1ms/step - loss: 0.1541 - accuracy: 0.9575 - val_loss: 0.2138 - val_accuracy: 0.9465\n",
      "Epoch 71/100\n",
      "54/54 [==============================] - 0s 1ms/step - loss: 0.1544 - accuracy: 0.9581 - val_loss: 0.2165 - val_accuracy: 0.9535\n",
      "Epoch 72/100\n",
      "54/54 [==============================] - 0s 1ms/step - loss: 0.1540 - accuracy: 0.9575 - val_loss: 0.2114 - val_accuracy: 0.9535\n",
      "Epoch 73/100\n",
      "54/54 [==============================] - 0s 2ms/step - loss: 0.1510 - accuracy: 0.9581 - val_loss: 0.2127 - val_accuracy: 0.9512\n",
      "Epoch 74/100\n",
      "54/54 [==============================] - 0s 1ms/step - loss: 0.1495 - accuracy: 0.9587 - val_loss: 0.2170 - val_accuracy: 0.9442\n",
      "Epoch 75/100\n",
      "54/54 [==============================] - 0s 2ms/step - loss: 0.1506 - accuracy: 0.9558 - val_loss: 0.2162 - val_accuracy: 0.9442\n",
      "Epoch 76/100\n",
      "54/54 [==============================] - 0s 1ms/step - loss: 0.1492 - accuracy: 0.9587 - val_loss: 0.2105 - val_accuracy: 0.9535\n",
      "Epoch 77/100\n",
      "54/54 [==============================] - 0s 1ms/step - loss: 0.1469 - accuracy: 0.9581 - val_loss: 0.2093 - val_accuracy: 0.9512\n",
      "Epoch 78/100\n",
      "54/54 [==============================] - 0s 2ms/step - loss: 0.1463 - accuracy: 0.9570 - val_loss: 0.2149 - val_accuracy: 0.9465\n",
      "Epoch 79/100\n",
      "54/54 [==============================] - 0s 1ms/step - loss: 0.1486 - accuracy: 0.9558 - val_loss: 0.2135 - val_accuracy: 0.9535\n",
      "Epoch 80/100\n",
      "54/54 [==============================] - 0s 1ms/step - loss: 0.1453 - accuracy: 0.9575 - val_loss: 0.2136 - val_accuracy: 0.9512\n",
      "Epoch 81/100\n",
      "54/54 [==============================] - 0s 1ms/step - loss: 0.1429 - accuracy: 0.9599 - val_loss: 0.2125 - val_accuracy: 0.9512\n",
      "Epoch 82/100\n",
      "54/54 [==============================] - 0s 2ms/step - loss: 0.1429 - accuracy: 0.9593 - val_loss: 0.2146 - val_accuracy: 0.9442\n",
      "Epoch 83/100\n",
      "54/54 [==============================] - 0s 2ms/step - loss: 0.1419 - accuracy: 0.9587 - val_loss: 0.2086 - val_accuracy: 0.9512\n",
      "Epoch 84/100\n",
      "54/54 [==============================] - 0s 1ms/step - loss: 0.1408 - accuracy: 0.9587 - val_loss: 0.2205 - val_accuracy: 0.9442\n",
      "Epoch 85/100\n",
      "54/54 [==============================] - 0s 1ms/step - loss: 0.1427 - accuracy: 0.9581 - val_loss: 0.2122 - val_accuracy: 0.9465\n",
      "Epoch 86/100\n",
      "54/54 [==============================] - 0s 1ms/step - loss: 0.1404 - accuracy: 0.9570 - val_loss: 0.2093 - val_accuracy: 0.9512\n",
      "Epoch 87/100\n",
      "54/54 [==============================] - 0s 1ms/step - loss: 0.1387 - accuracy: 0.9593 - val_loss: 0.2107 - val_accuracy: 0.9465\n",
      "Epoch 88/100\n",
      "54/54 [==============================] - 0s 1ms/step - loss: 0.1391 - accuracy: 0.9570 - val_loss: 0.2102 - val_accuracy: 0.9512\n",
      "Epoch 89/100\n",
      "54/54 [==============================] - 0s 2ms/step - loss: 0.1369 - accuracy: 0.9581 - val_loss: 0.2105 - val_accuracy: 0.9465\n",
      "Epoch 90/100\n",
      "54/54 [==============================] - 0s 1ms/step - loss: 0.1374 - accuracy: 0.9604 - val_loss: 0.2096 - val_accuracy: 0.9581\n",
      "Epoch 91/100\n",
      "54/54 [==============================] - 0s 1ms/step - loss: 0.1371 - accuracy: 0.9570 - val_loss: 0.2140 - val_accuracy: 0.9442\n",
      "Epoch 92/100\n",
      "54/54 [==============================] - 0s 1ms/step - loss: 0.1358 - accuracy: 0.9587 - val_loss: 0.2135 - val_accuracy: 0.9442\n",
      "Epoch 93/100\n",
      "54/54 [==============================] - 0s 1ms/step - loss: 0.1359 - accuracy: 0.9599 - val_loss: 0.2103 - val_accuracy: 0.9512\n",
      "Epoch 94/100\n",
      "54/54 [==============================] - 0s 1ms/step - loss: 0.1335 - accuracy: 0.9593 - val_loss: 0.2127 - val_accuracy: 0.9419\n",
      "Epoch 95/100\n",
      "54/54 [==============================] - 0s 2ms/step - loss: 0.1358 - accuracy: 0.9581 - val_loss: 0.2136 - val_accuracy: 0.9512\n",
      "Epoch 96/100\n",
      "54/54 [==============================] - 0s 1ms/step - loss: 0.1334 - accuracy: 0.9593 - val_loss: 0.2108 - val_accuracy: 0.9512\n",
      "Epoch 97/100\n",
      "54/54 [==============================] - 0s 1ms/step - loss: 0.1319 - accuracy: 0.9599 - val_loss: 0.2117 - val_accuracy: 0.9488\n",
      "Epoch 98/100\n",
      "54/54 [==============================] - 0s 1ms/step - loss: 0.1314 - accuracy: 0.9622 - val_loss: 0.2091 - val_accuracy: 0.9512\n",
      "Epoch 99/100\n",
      "54/54 [==============================] - 0s 1ms/step - loss: 0.1310 - accuracy: 0.9604 - val_loss: 0.2115 - val_accuracy: 0.9442\n",
      "Epoch 100/100\n",
      "54/54 [==============================] - 0s 2ms/step - loss: 0.1299 - accuracy: 0.9587 - val_loss: 0.2090 - val_accuracy: 0.9465\n"
     ]
    }
   ],
   "source": [
    "ip_shape=hdss.shape[1]\n",
    "model = get_classifier_model(ip_shape)\n",
    "# Compile the model\n",
    "model.compile(optimizer='adam',\n",
    "              loss='categorical_crossentropy',\n",
    "              metrics=['accuracy'])\n",
    "# Train the model\n",
    "history=model.fit(paired_train, label_combo_train, epochs=100,batch_size=32, validation_split=0.2)\n"
   ]
  },
  {
   "cell_type": "code",
   "execution_count": 147,
   "id": "cd586d4c",
   "metadata": {},
   "outputs": [
    {
     "data": {
      "image/png": "[encoded data removed]",
      "text/plain": [
       "<Figure size 640x480 with 1 Axes>"
      ]
     },
     "metadata": {},
     "output_type": "display_data"
    }
   ],
   "source": [
    "#training accuracy curve\n",
    "plt.plot(history.history['accuracy'],label='Training')\n",
    "plt.plot(history.history['val_accuracy'],label='Val')\n",
    "plt.legend()\n",
    "plt.show()"
   ]
  },
  {
   "cell_type": "code",
   "execution_count": 148,
   "id": "89a00709",
   "metadata": {},
   "outputs": [
    {
     "data": {
      "image/png": "[encoded data removed]",
      "text/plain": [
       "<Figure size 640x480 with 1 Axes>"
      ]
     },
     "metadata": {},
     "output_type": "display_data"
    }
   ],
   "source": [
    "#loss curve\n",
    "plt.plot(history.history['loss'],label='Training')\n",
    "plt.plot(history.history['val_loss'],label='Val')\n",
    "plt.legend()\n",
    "plt.show()"
   ]
  },
  {
   "cell_type": "markdown",
   "id": "dd926c6a",
   "metadata": {},
   "source": [
    "### Evaluate the model on the test set"
   ]
  },
  {
   "cell_type": "code",
   "execution_count": 149,
   "id": "5e2a701c",
   "metadata": {},
   "outputs": [
    {
     "name": "stdout",
     "output_type": "stream",
     "text": [
      "29/29 [==============================] - 0s 1ms/step - loss: 0.1870 - accuracy: 0.9382\n",
      "Test accuracy: 0.9381778836250305\n"
     ]
    }
   ],
   "source": [
    "# Evaluate the model\n",
    "test_loss, test_acc = model.evaluate(paired_test, label_combo_test)\n",
    "print('Test accuracy:', test_acc)\n"
   ]
  },
  {
   "cell_type": "code",
   "execution_count": 150,
   "id": "c3aedb73",
   "metadata": {},
   "outputs": [],
   "source": [
    "### Compute an F1-Score on the test set and plot a heatmap"
   ]
  },
  {
   "cell_type": "code",
   "execution_count": 151,
   "id": "ac318044",
   "metadata": {},
   "outputs": [
    {
     "name": "stdout",
     "output_type": "stream",
     "text": [
      "29/29 [==============================] - 0s 712us/step\n"
     ]
    }
   ],
   "source": [
    "#create a confusion matrix\n",
    "preds=np.argmax(model.predict(paired_test),axis=1)\n",
    "act=np.argmax(label_combo_test,axis=1)"
   ]
  },
  {
   "cell_type": "code",
   "execution_count": 152,
   "id": "3961aa8f",
   "metadata": {},
   "outputs": [
    {
     "data": {
      "text/plain": [
       "0.9383512171599969"
      ]
     },
     "execution_count": 152,
     "metadata": {},
     "output_type": "execute_result"
    }
   ],
   "source": [
    "#the f1 score\n",
    "f1_score(act,preds, average='weighted')"
   ]
  },
  {
   "cell_type": "code",
   "execution_count": 153,
   "id": "c0d2a287",
   "metadata": {},
   "outputs": [
    {
     "data": {
      "image/png": "[encoded data removed]",
      "text/plain": [
       "<Figure size 640x480 with 1 Axes>"
      ]
     },
     "metadata": {},
     "output_type": "display_data"
    }
   ],
   "source": [
    "#test prediction heatmap\n",
    "sns.heatmap(confusion_matrix(preds,act),annot=True,fmt='d',cbar=False)\n",
    "plt.ylabel('Predicted')\n",
    "plt.xlabel('Actual')\n",
    "\n",
    "plt.show()"
   ]
  },
  {
   "cell_type": "code",
   "execution_count": null,
   "id": "404dfc67",
   "metadata": {},
   "outputs": [],
   "source": [
    "## Retrospect"
   ]
  },
  {
   "cell_type": "code",
   "execution_count": 175,
   "id": "640e1d14",
   "metadata": {},
   "outputs": [],
   "source": [
    "#choose the predicted class and actual class to see the entries of the confusion matrix above\n",
    "indices = np.where((preds == 2) & (act == 0))[0]"
   ]
  },
  {
   "cell_type": "code",
   "execution_count": 176,
   "id": "98bf20fe",
   "metadata": {},
   "outputs": [
    {
     "data": {
      "text/plain": [
       "array([58])"
      ]
     },
     "execution_count": 176,
     "metadata": {},
     "output_type": "execute_result"
    }
   ],
   "source": [
    "indices"
   ]
  },
  {
   "cell_type": "code",
   "execution_count": 134,
   "id": "640377ea",
   "metadata": {},
   "outputs": [],
   "source": [
    "## Test the model using random test data"
   ]
  },
  {
   "cell_type": "code",
   "execution_count": 192,
   "id": "52aac4a6",
   "metadata": {},
   "outputs": [],
   "source": [
    "#choose a value in the indices the abe and save it as rand\n",
    "rand=58\n"
   ]
  },
  {
   "cell_type": "code",
   "execution_count": 180,
   "id": "e5479fbe",
   "metadata": {},
   "outputs": [],
   "source": [
    "#get the actual indices of the test record\n",
    "t_h=hdss_combo.iloc[[rand]].index[0]\n",
    "t_f=facility_combo.iloc[[rand]].index[0]"
   ]
  },
  {
   "cell_type": "code",
   "execution_count": 181,
   "id": "e552560c",
   "metadata": {},
   "outputs": [
    {
     "data": {
      "text/html": [
       "<div>\n",
       "<style scoped>\n",
       "    .dataframe tbody tr th:only-of-type {\n",
       "        vertical-align: middle;\n",
       "    }\n",
       "\n",
       "    .dataframe tbody tr th {\n",
       "        vertical-align: top;\n",
       "    }\n",
       "\n",
       "    .dataframe thead th {\n",
       "        text-align: right;\n",
       "    }\n",
       "</style>\n",
       "<table border=\"1\" class=\"dataframe\">\n",
       "  <thead>\n",
       "    <tr style=\"text-align: right;\">\n",
       "      <th></th>\n",
       "      <th>recnr</th>\n",
       "      <th>firstname</th>\n",
       "      <th>lastname</th>\n",
       "      <th>petname</th>\n",
       "      <th>sex</th>\n",
       "      <th>nationalid</th>\n",
       "      <th>hdssid</th>\n",
       "      <th>hdsshhid</th>\n",
       "      <th>year</th>\n",
       "      <th>month</th>\n",
       "      <th>day</th>\n",
       "    </tr>\n",
       "  </thead>\n",
       "  <tbody>\n",
       "    <tr>\n",
       "      <th>213</th>\n",
       "      <td>214</td>\n",
       "      <td>Rose</td>\n",
       "      <td>Nakisuyi</td>\n",
       "      <td>Handa</td>\n",
       "      <td>2</td>\n",
       "      <td></td>\n",
       "      <td>I20214</td>\n",
       "      <td>HH100214</td>\n",
       "      <td>1998</td>\n",
       "      <td>9</td>\n",
       "      <td>17</td>\n",
       "    </tr>\n",
       "  </tbody>\n",
       "</table>\n",
       "</div>"
      ],
      "text/plain": [
       "     recnr firstname  lastname petname  sex nationalid  hdssid  hdsshhid  \\\n",
       "213    214      Rose  Nakisuyi   Handa    2             I20214  HH100214   \n",
       "\n",
       "     year  month  day  \n",
       "213  1998      9   17  "
      ]
     },
     "execution_count": 181,
     "metadata": {},
     "output_type": "execute_result"
    }
   ],
   "source": [
    "#display the record in the hdss file\n",
    "master_hdss.loc[[t_h]]"
   ]
  },
  {
   "cell_type": "code",
   "execution_count": 182,
   "id": "b33c3101",
   "metadata": {},
   "outputs": [
    {
     "data": {
      "text/html": [
       "<div>\n",
       "<style scoped>\n",
       "    .dataframe tbody tr th:only-of-type {\n",
       "        vertical-align: middle;\n",
       "    }\n",
       "\n",
       "    .dataframe tbody tr th {\n",
       "        vertical-align: top;\n",
       "    }\n",
       "\n",
       "    .dataframe thead th {\n",
       "        text-align: right;\n",
       "    }\n",
       "</style>\n",
       "<table border=\"1\" class=\"dataframe\">\n",
       "  <thead>\n",
       "    <tr style=\"text-align: right;\">\n",
       "      <th></th>\n",
       "      <th>recnr</th>\n",
       "      <th>firstname</th>\n",
       "      <th>lastname</th>\n",
       "      <th>petname</th>\n",
       "      <th>sex</th>\n",
       "      <th>nationalid</th>\n",
       "      <th>patientid</th>\n",
       "      <th>visitdate</th>\n",
       "      <th>year</th>\n",
       "      <th>month</th>\n",
       "      <th>day</th>\n",
       "    </tr>\n",
       "  </thead>\n",
       "  <tbody>\n",
       "    <tr>\n",
       "      <th>191</th>\n",
       "      <td>193</td>\n",
       "      <td>Rose</td>\n",
       "      <td>Nakisuyi</td>\n",
       "      <td>Handa</td>\n",
       "      <td>2</td>\n",
       "      <td>N_ID_5534</td>\n",
       "      <td>2263</td>\n",
       "      <td>20-07-2019</td>\n",
       "      <td>1998</td>\n",
       "      <td>9</td>\n",
       "      <td>24</td>\n",
       "    </tr>\n",
       "  </tbody>\n",
       "</table>\n",
       "</div>"
      ],
      "text/plain": [
       "     recnr firstname  lastname petname  sex nationalid  patientid   visitdate  \\\n",
       "191    193      Rose  Nakisuyi   Handa    2  N_ID_5534       2263  20-07-2019   \n",
       "\n",
       "     year  month  day  \n",
       "191  1998      9   24  "
      ]
     },
     "execution_count": 182,
     "metadata": {},
     "output_type": "execute_result"
    }
   ],
   "source": [
    "#display the record in the facility\n",
    "master_facility.loc[[t_f]]"
   ]
  },
  {
   "cell_type": "code",
   "execution_count": 202,
   "id": "cb588ed5",
   "metadata": {},
   "outputs": [
    {
     "name": "stdout",
     "output_type": "stream",
     "text": [
      "1/1 [==============================] - 0s 16ms/step\n"
     ]
    },
    {
     "data": {
      "text/plain": [
       "array([[0.9648453 , 0.00883629, 0.02631845]], dtype=float32)"
      ]
     },
     "execution_count": 202,
     "metadata": {},
     "output_type": "execute_result"
    }
   ],
   "source": [
    "#runs this to see the probabilities of choosing a certain class\n",
    "pred=model.predict([hdss.loc[[t_h]].values,facility.loc[[t_f]].values])\n",
    "pred"
   ]
  },
  {
   "cell_type": "markdown",
   "id": "7ed00f27",
   "metadata": {},
   "source": [
    "### Save the model."
   ]
  },
  {
   "cell_type": "code",
   "execution_count": 60,
   "id": "32145dc8",
   "metadata": {},
   "outputs": [],
   "source": [
    "\n",
    "import pickle\n",
    "with open('saimese.pkl', 'wb') as file:\n",
    "    pickle.dump(model, file)"
   ]
  },
  {
   "cell_type": "code",
   "execution_count": 61,
   "id": "859f3e92",
   "metadata": {},
   "outputs": [],
   "source": [
    "# Load the trained classifier from the file\n",
    "with open('saimese.pkl', 'rb') as file:\n",
    "    classifier = pickle.load(file)"
   ]
  },
  {
   "cell_type": "code",
   "execution_count": 215,
   "id": "dd2a8eb1",
   "metadata": {},
   "outputs": [],
   "source": [
    "# load the pairs\n",
    "candidate=pd.read_csv('pairs_test_1.csv')"
   ]
  },
  {
   "cell_type": "code",
   "execution_count": 216,
   "id": "694c22b3",
   "metadata": {},
   "outputs": [
    {
     "data": {
      "text/html": [
       "<div>\n",
       "<style scoped>\n",
       "    .dataframe tbody tr th:only-of-type {\n",
       "        vertical-align: middle;\n",
       "    }\n",
       "\n",
       "    .dataframe tbody tr th {\n",
       "        vertical-align: top;\n",
       "    }\n",
       "\n",
       "    .dataframe thead th {\n",
       "        text-align: right;\n",
       "    }\n",
       "</style>\n",
       "<table border=\"1\" class=\"dataframe\">\n",
       "  <thead>\n",
       "    <tr style=\"text-align: right;\">\n",
       "      <th></th>\n",
       "      <th>0</th>\n",
       "      <th>1</th>\n",
       "    </tr>\n",
       "  </thead>\n",
       "  <tbody>\n",
       "    <tr>\n",
       "      <th>0</th>\n",
       "      <td>7</td>\n",
       "      <td>762</td>\n",
       "    </tr>\n",
       "    <tr>\n",
       "      <th>1</th>\n",
       "      <td>8</td>\n",
       "      <td>2091</td>\n",
       "    </tr>\n",
       "    <tr>\n",
       "      <th>2</th>\n",
       "      <td>12</td>\n",
       "      <td>2804</td>\n",
       "    </tr>\n",
       "    <tr>\n",
       "      <th>3</th>\n",
       "      <td>13</td>\n",
       "      <td>2798</td>\n",
       "    </tr>\n",
       "    <tr>\n",
       "      <th>4</th>\n",
       "      <td>14</td>\n",
       "      <td>772</td>\n",
       "    </tr>\n",
       "    <tr>\n",
       "      <th>...</th>\n",
       "      <td>...</td>\n",
       "      <td>...</td>\n",
       "    </tr>\n",
       "    <tr>\n",
       "      <th>1149</th>\n",
       "      <td>4086</td>\n",
       "      <td>2090</td>\n",
       "    </tr>\n",
       "    <tr>\n",
       "      <th>1150</th>\n",
       "      <td>4088</td>\n",
       "      <td>807</td>\n",
       "    </tr>\n",
       "    <tr>\n",
       "      <th>1151</th>\n",
       "      <td>4097</td>\n",
       "      <td>1031</td>\n",
       "    </tr>\n",
       "    <tr>\n",
       "      <th>1152</th>\n",
       "      <td>4103</td>\n",
       "      <td>1392</td>\n",
       "    </tr>\n",
       "    <tr>\n",
       "      <th>1153</th>\n",
       "      <td>4110</td>\n",
       "      <td>126</td>\n",
       "    </tr>\n",
       "  </tbody>\n",
       "</table>\n",
       "<p>1154 rows × 2 columns</p>\n",
       "</div>"
      ],
      "text/plain": [
       "         0     1\n",
       "0        7   762\n",
       "1        8  2091\n",
       "2       12  2804\n",
       "3       13  2798\n",
       "4       14   772\n",
       "...    ...   ...\n",
       "1149  4086  2090\n",
       "1150  4088   807\n",
       "1151  4097  1031\n",
       "1152  4103  1392\n",
       "1153  4110   126\n",
       "\n",
       "[1154 rows x 2 columns]"
      ]
     },
     "execution_count": 216,
     "metadata": {},
     "output_type": "execute_result"
    }
   ],
   "source": [
    "candidate"
   ]
  },
  {
   "cell_type": "code",
   "execution_count": 217,
   "id": "c3dcc43f",
   "metadata": {},
   "outputs": [],
   "source": [
    "def get_hdss_and_facility(candidate_links,hdss,facility):\n",
    "    hd,fc=candidate_links['0'],candidate_links['1']\n",
    "    hdss=hdss.iloc[hd].values\n",
    "    facility=facility.iloc[fc].values\n",
    "    return [hdss,facility]"
   ]
  },
  {
   "cell_type": "code",
   "execution_count": 218,
   "id": "84d4b526",
   "metadata": {},
   "outputs": [],
   "source": [
    "tester=get_hdss_and_facility(candidate,hdss,facility)"
   ]
  },
  {
   "cell_type": "code",
   "execution_count": 219,
   "id": "b382838d",
   "metadata": {},
   "outputs": [
    {
     "name": "stdout",
     "output_type": "stream",
     "text": [
      "37/37 [==============================] - 0s 587us/step\n"
     ]
    }
   ],
   "source": [
    "pss=classifier.predict(tester)"
   ]
  },
  {
   "cell_type": "code",
   "execution_count": 224,
   "id": "92274b7d",
   "metadata": {},
   "outputs": [
    {
     "data": {
      "text/plain": [
       "100"
      ]
     },
     "execution_count": 224,
     "metadata": {},
     "output_type": "execute_result"
    }
   ],
   "source": [
    "xx=np.argmax(pss,axis=1)==1\n",
    "sum(xx)"
   ]
  },
  {
   "cell_type": "code",
   "execution_count": null,
   "id": "5e686b32",
   "metadata": {},
   "outputs": [],
   "source": []
  },
  {
   "cell_type": "code",
   "execution_count": 225,
   "id": "e8d97320",
   "metadata": {},
   "outputs": [
    {
     "data": {
      "text/plain": [
       "86"
      ]
     },
     "execution_count": 225,
     "metadata": {},
     "output_type": "execute_result"
    }
   ],
   "source": [
    "len(np.unique(candidate.iloc[xx]['0']))"
   ]
  },
  {
   "cell_type": "code",
   "execution_count": 226,
   "id": "a572413f",
   "metadata": {},
   "outputs": [
    {
     "data": {
      "text/html": [
       "<div>\n",
       "<style scoped>\n",
       "    .dataframe tbody tr th:only-of-type {\n",
       "        vertical-align: middle;\n",
       "    }\n",
       "\n",
       "    .dataframe tbody tr th {\n",
       "        vertical-align: top;\n",
       "    }\n",
       "\n",
       "    .dataframe thead th {\n",
       "        text-align: right;\n",
       "    }\n",
       "</style>\n",
       "<table border=\"1\" class=\"dataframe\">\n",
       "  <thead>\n",
       "    <tr style=\"text-align: right;\">\n",
       "      <th></th>\n",
       "      <th>0</th>\n",
       "      <th>1</th>\n",
       "    </tr>\n",
       "  </thead>\n",
       "  <tbody>\n",
       "    <tr>\n",
       "      <th>57</th>\n",
       "      <td>202</td>\n",
       "      <td>778</td>\n",
       "    </tr>\n",
       "    <tr>\n",
       "      <th>60</th>\n",
       "      <td>213</td>\n",
       "      <td>191</td>\n",
       "    </tr>\n",
       "    <tr>\n",
       "      <th>61</th>\n",
       "      <td>213</td>\n",
       "      <td>2198</td>\n",
       "    </tr>\n",
       "    <tr>\n",
       "      <th>64</th>\n",
       "      <td>221</td>\n",
       "      <td>2340</td>\n",
       "    </tr>\n",
       "    <tr>\n",
       "      <th>67</th>\n",
       "      <td>225</td>\n",
       "      <td>2581</td>\n",
       "    </tr>\n",
       "    <tr>\n",
       "      <th>...</th>\n",
       "      <td>...</td>\n",
       "      <td>...</td>\n",
       "    </tr>\n",
       "    <tr>\n",
       "      <th>826</th>\n",
       "      <td>2856</td>\n",
       "      <td>2712</td>\n",
       "    </tr>\n",
       "    <tr>\n",
       "      <th>831</th>\n",
       "      <td>2876</td>\n",
       "      <td>396</td>\n",
       "    </tr>\n",
       "    <tr>\n",
       "      <th>918</th>\n",
       "      <td>3221</td>\n",
       "      <td>1494</td>\n",
       "    </tr>\n",
       "    <tr>\n",
       "      <th>1005</th>\n",
       "      <td>3554</td>\n",
       "      <td>2082</td>\n",
       "    </tr>\n",
       "    <tr>\n",
       "      <th>1086</th>\n",
       "      <td>3857</td>\n",
       "      <td>1846</td>\n",
       "    </tr>\n",
       "  </tbody>\n",
       "</table>\n",
       "<p>100 rows × 2 columns</p>\n",
       "</div>"
      ],
      "text/plain": [
       "         0     1\n",
       "57     202   778\n",
       "60     213   191\n",
       "61     213  2198\n",
       "64     221  2340\n",
       "67     225  2581\n",
       "...    ...   ...\n",
       "826   2856  2712\n",
       "831   2876   396\n",
       "918   3221  1494\n",
       "1005  3554  2082\n",
       "1086  3857  1846\n",
       "\n",
       "[100 rows x 2 columns]"
      ]
     },
     "execution_count": 226,
     "metadata": {},
     "output_type": "execute_result"
    }
   ],
   "source": [
    "candidate.iloc[xx]"
   ]
  },
  {
   "cell_type": "code",
   "execution_count": 243,
   "id": "34193514",
   "metadata": {},
   "outputs": [
    {
     "data": {
      "text/html": [
       "<div>\n",
       "<style scoped>\n",
       "    .dataframe tbody tr th:only-of-type {\n",
       "        vertical-align: middle;\n",
       "    }\n",
       "\n",
       "    .dataframe tbody tr th {\n",
       "        vertical-align: top;\n",
       "    }\n",
       "\n",
       "    .dataframe thead th {\n",
       "        text-align: right;\n",
       "    }\n",
       "</style>\n",
       "<table border=\"1\" class=\"dataframe\">\n",
       "  <thead>\n",
       "    <tr style=\"text-align: right;\">\n",
       "      <th></th>\n",
       "      <th>recnr</th>\n",
       "      <th>firstname</th>\n",
       "      <th>lastname</th>\n",
       "      <th>petname</th>\n",
       "      <th>dob</th>\n",
       "      <th>sex</th>\n",
       "      <th>nationalid</th>\n",
       "      <th>hdssid</th>\n",
       "      <th>hdsshhid</th>\n",
       "    </tr>\n",
       "  </thead>\n",
       "  <tbody>\n",
       "    <tr>\n",
       "      <th>2876</th>\n",
       "      <td>2877</td>\n",
       "      <td>Edirisa</td>\n",
       "      <td>Christopher</td>\n",
       "      <td>Muhairwe</td>\n",
       "      <td>03-07-1986 00:00</td>\n",
       "      <td>1</td>\n",
       "      <td>NaN</td>\n",
       "      <td>I22877</td>\n",
       "      <td>HH102877</td>\n",
       "    </tr>\n",
       "  </tbody>\n",
       "</table>\n",
       "</div>"
      ],
      "text/plain": [
       "      recnr firstname     lastname   petname               dob  sex  \\\n",
       "2876   2877   Edirisa  Christopher  Muhairwe  03-07-1986 00:00    1   \n",
       "\n",
       "      nationalid  hdssid  hdsshhid  \n",
       "2876         NaN  I22877  HH102877  "
      ]
     },
     "execution_count": 243,
     "metadata": {},
     "output_type": "execute_result"
    }
   ],
   "source": [
    "hd_master.iloc[[2876]]"
   ]
  },
  {
   "cell_type": "code",
   "execution_count": 244,
   "id": "f78cf271",
   "metadata": {},
   "outputs": [
    {
     "data": {
      "text/html": [
       "<div>\n",
       "<style scoped>\n",
       "    .dataframe tbody tr th:only-of-type {\n",
       "        vertical-align: middle;\n",
       "    }\n",
       "\n",
       "    .dataframe tbody tr th {\n",
       "        vertical-align: top;\n",
       "    }\n",
       "\n",
       "    .dataframe thead th {\n",
       "        text-align: right;\n",
       "    }\n",
       "</style>\n",
       "<table border=\"1\" class=\"dataframe\">\n",
       "  <thead>\n",
       "    <tr style=\"text-align: right;\">\n",
       "      <th></th>\n",
       "      <th>recnr</th>\n",
       "      <th>firstname</th>\n",
       "      <th>lastname</th>\n",
       "      <th>petname</th>\n",
       "      <th>dob</th>\n",
       "      <th>sex</th>\n",
       "      <th>nationalid</th>\n",
       "      <th>patientid</th>\n",
       "      <th>visitdate</th>\n",
       "    </tr>\n",
       "  </thead>\n",
       "  <tbody>\n",
       "    <tr>\n",
       "      <th>396</th>\n",
       "      <td>398</td>\n",
       "      <td>Edirisa</td>\n",
       "      <td>Christopher</td>\n",
       "      <td>Muhairwe</td>\n",
       "      <td>10-07-1986 00:00</td>\n",
       "      <td>1</td>\n",
       "      <td>N_ID_6155</td>\n",
       "      <td>2468</td>\n",
       "      <td>05-11-2019</td>\n",
       "    </tr>\n",
       "  </tbody>\n",
       "</table>\n",
       "</div>"
      ],
      "text/plain": [
       "     recnr firstname     lastname   petname               dob  sex nationalid  \\\n",
       "396    398   Edirisa  Christopher  Muhairwe  10-07-1986 00:00    1  N_ID_6155   \n",
       "\n",
       "     patientid   visitdate  \n",
       "396       2468  05-11-2019  "
      ]
     },
     "execution_count": 244,
     "metadata": {},
     "output_type": "execute_result"
    }
   ],
   "source": [
    "fac_master.iloc[[396]]"
   ]
  },
  {
   "cell_type": "code",
   "execution_count": null,
   "id": "e7f9937e",
   "metadata": {},
   "outputs": [],
   "source": []
  },
  {
   "cell_type": "code",
   "execution_count": null,
   "id": "60848ef3",
   "metadata": {},
   "outputs": [],
   "source": []
  }
 ],
 "metadata": {
  "kernelspec": {
   "display_name": "Python 3",
   "language": "python",
   "name": "python3"
  },
  "language_info": {
   "codemirror_mode": {
    "name": "ipython",
    "version": 3
   },
   "file_extension": ".py",
   "mimetype": "text/x-python",
   "name": "python",
   "nbconvert_exporter": "python",
   "pygments_lexer": "ipython3",
   "version": "3.9.2"
  }
 },
 "nbformat": 4,
 "nbformat_minor": 5
}
